{
 "cells": [
  {
   "cell_type": "code",
   "execution_count": 403,
   "id": "d89b5e1f",
   "metadata": {},
   "outputs": [],
   "source": [
    "import pandas as pd\n",
    "import nltk\n",
    "import regex as re\n",
    "import matplotlib.pyplot as plt\n",
    "import numpy as np\n",
    "import re\n",
    "import json"
   ]
  },
  {
   "cell_type": "code",
   "execution_count": 404,
   "id": "01258d4a",
   "metadata": {},
   "outputs": [
    {
     "name": "stderr",
     "output_type": "stream",
     "text": [
      "C:\\Users\\hi\\AppData\\Local\\Temp\\ipykernel_15960\\3072790113.py:2: DtypeWarning: Columns (26) have mixed types. Specify dtype option on import or set low_memory=False.\n",
      "  data_eu = pd.read_csv(\"/Users/hi/Desktop/data_science_wbs_school/final_project/twitter_analysis_new/df_europe_twitter.csv\")\n"
     ]
    }
   ],
   "source": [
    "data_india =  pd.read_csv(\"/Users/hi/Desktop/data_science_wbs_school/final_project/twitter_analysis_new/data_india.csv\")\n",
    "data_eu = pd.read_csv(\"/Users/hi/Desktop/data_science_wbs_school/final_project/twitter_analysis_new/df_europe_twitter.csv\")\n",
    " \n",
    "data_africa = pd.read_csv(\"/Users/hi/Desktop/data_science_wbs_school/final_project/twitter_analysis_new/data_africa.csv\")\n",
    "data_usa = pd.read_csv(\"/Users/hi/Desktop/data_science_wbs_school/final_project/twitter_analysis_new/data_usa.csv\")"
   ]
  },
  {
   "cell_type": "code",
   "execution_count": 405,
   "id": "e763b1ab",
   "metadata": {},
   "outputs": [],
   "source": [
    "#data_india['date']"
   ]
  },
  {
   "cell_type": "code",
   "execution_count": 406,
   "id": "2c01b8ad",
   "metadata": {},
   "outputs": [],
   "source": [
    "#data_eu"
   ]
  },
  {
   "cell_type": "code",
   "execution_count": 407,
   "id": "c226f11a",
   "metadata": {},
   "outputs": [],
   "source": [
    "# select only english tweets\n",
    "def english_tweets(data):\n",
    "    english_df = data.query(\"lang == 'en'\")\n",
    "    return(english_df)"
   ]
  },
  {
   "cell_type": "code",
   "execution_count": 408,
   "id": "fa8c81c1",
   "metadata": {},
   "outputs": [],
   "source": [
    "data_india = english_tweets(data_india)\n",
    "data_eu = english_tweets(data_eu)\n",
    "data_africa = english_tweets(data_africa)\n",
    "data_usa = english_tweets(data_usa)"
   ]
  },
  {
   "cell_type": "code",
   "execution_count": 409,
   "id": "e645981d",
   "metadata": {},
   "outputs": [],
   "source": [
    "#data_usa "
   ]
  },
  {
   "cell_type": "code",
   "execution_count": 410,
   "id": "1362b1c0",
   "metadata": {},
   "outputs": [],
   "source": [
    "#data_india.info()"
   ]
  },
  {
   "cell_type": "code",
   "execution_count": 411,
   "id": "71d50359",
   "metadata": {},
   "outputs": [
    {
     "data": {
      "text/plain": [
       "['url',\n",
       " 'date',\n",
       " 'content',\n",
       " 'renderedContent',\n",
       " 'id',\n",
       " 'user',\n",
       " 'replyCount',\n",
       " 'retweetCount',\n",
       " 'likeCount',\n",
       " 'quoteCount',\n",
       " 'conversationId',\n",
       " 'lang',\n",
       " 'source',\n",
       " 'sourceUrl',\n",
       " 'sourceLabel',\n",
       " 'outlinks',\n",
       " 'tcooutlinks',\n",
       " 'media',\n",
       " 'retweetedTweet',\n",
       " 'quotedTweet',\n",
       " 'inReplyToTweetId',\n",
       " 'inReplyToUser',\n",
       " 'mentionedUsers',\n",
       " 'coordinates',\n",
       " 'place',\n",
       " 'hashtags',\n",
       " 'cashtags']"
      ]
     },
     "execution_count": 411,
     "metadata": {},
     "output_type": "execute_result"
    }
   ],
   "source": [
    "data_india.columns.values.tolist()"
   ]
  },
  {
   "cell_type": "code",
   "execution_count": 412,
   "id": "7f14fbf9",
   "metadata": {},
   "outputs": [],
   "source": [
    "# removing coloumns from the dataset\n",
    "def remove_coloumns(data):\n",
    "    new_df = data.drop(['url',\n",
    " 'renderedContent',\n",
    " 'id',\n",
    " 'user',\n",
    " 'replyCount',\n",
    " 'retweetCount',\n",
    " 'likeCount',\n",
    " 'quoteCount',\n",
    " 'conversationId',\n",
    " 'lang',\n",
    " 'source',\n",
    " 'sourceUrl',\n",
    " 'sourceLabel',\n",
    " 'outlinks',\n",
    " 'tcooutlinks',\n",
    " 'media',\n",
    " 'retweetedTweet',\n",
    " 'quotedTweet',\n",
    " 'inReplyToTweetId',\n",
    " 'inReplyToUser',\n",
    " 'mentionedUsers',\n",
    " 'coordinates',\n",
    " 'hashtags',\n",
    " 'cashtags'], axis = 1)\n",
    "    return(new_df)"
   ]
  },
  {
   "cell_type": "code",
   "execution_count": 413,
   "id": "6820dd74",
   "metadata": {},
   "outputs": [],
   "source": [
    "data_india = remove_coloumns(data_india)\n",
    "data_eu = remove_coloumns(data_eu)\n",
    "data_africa = remove_coloumns(data_africa)\n",
    "data_usa = remove_coloumns(data_usa)\n"
   ]
  },
  {
   "cell_type": "code",
   "execution_count": 414,
   "id": "cdf27acb",
   "metadata": {},
   "outputs": [],
   "source": [
    "#data_eu"
   ]
  },
  {
   "cell_type": "code",
   "execution_count": 416,
   "id": "87041c9b",
   "metadata": {},
   "outputs": [],
   "source": [
    "# changing data type of date and saving only the date\n",
    "data_india['date'] = pd.to_datetime(data_india['date']).dt.date\n",
    "data_eu['date'] = pd.to_datetime(data_eu['date']).dt.date\n",
    "data_africa['date'] = pd.to_datetime(data_africa['date']).dt.date\n",
    "data_usa['date'] = pd.to_datetime(data_usa['date']).dt.date"
   ]
  },
  {
   "cell_type": "code",
   "execution_count": 417,
   "id": "673778f9",
   "metadata": {},
   "outputs": [],
   "source": [
    "data_india['date'] = pd.to_datetime(data_india['date'])\n",
    "data_eu['date'] = pd.to_datetime(data_eu['date'])\n",
    "data_africa['date'] = pd.to_datetime(data_africa['date'])\n",
    "data_usa['date'] = pd.to_datetime(data_usa['date'])"
   ]
  },
  {
   "cell_type": "code",
   "execution_count": 418,
   "id": "488a3dc3",
   "metadata": {},
   "outputs": [
    {
     "data": {
      "text/plain": [
       "0       2022-08-31\n",
       "1       2022-08-31\n",
       "2       2022-08-31\n",
       "3       2022-08-31\n",
       "4       2022-08-31\n",
       "           ...    \n",
       "20323   2010-10-28\n",
       "20325   2010-10-21\n",
       "20326   2010-10-19\n",
       "20328   2010-10-08\n",
       "20329   2010-09-19\n",
       "Name: date, Length: 17649, dtype: datetime64[ns]"
      ]
     },
     "execution_count": 418,
     "metadata": {},
     "output_type": "execute_result"
    }
   ],
   "source": [
    "data_india['date']\n"
   ]
  },
  {
   "cell_type": "code",
   "execution_count": 420,
   "id": "b939e77c",
   "metadata": {},
   "outputs": [],
   "source": [
    "data_india['place'] = data_india['place'].fillna(\"country\")\n",
    "data_africa['place'] = data_india['place'].fillna(\"country\")\n",
    "data_eu['place'] = data_india['place'].fillna(\"country\")\n",
    "data_usa['place'] = data_india['place'].fillna(\"country\")"
   ]
  },
  {
   "cell_type": "code",
   "execution_count": 421,
   "id": "f4f2a4be",
   "metadata": {},
   "outputs": [],
   "source": [
    "# for india\n",
    "data_india['place'] = data_india['place'].str.contains(\"country\", na=False)\n",
    "data_india['place'] = data_india['place'].map({True: 'India', False: 'no'})\n",
    "data_india['place'] = data_india['place'].str.replace('True', 'India')"
   ]
  },
  {
   "cell_type": "code",
   "execution_count": 422,
   "id": "9a04df35",
   "metadata": {},
   "outputs": [],
   "source": [
    "# for eu\n",
    "data_eu['place'] = data_eu['place'].str.contains(\"country\", na=False)\n",
    "data_eu['place'] = data_eu['place'].map({True: 'eu', False: 'eu'})\n",
    "data_eu['place'] = data_eu['place'].str.replace('True', 'eu')"
   ]
  },
  {
   "cell_type": "code",
   "execution_count": 423,
   "id": "7faa6756",
   "metadata": {},
   "outputs": [],
   "source": [
    "# for africa\n",
    "data_africa['place'] = data_africa['place'].str.contains(\"country\", na=False)\n",
    "data_africa['place'] = data_africa['place'].map({True: 'africa', False: 'africa'})\n",
    "data_africa['place'] = data_africa['place'].str.replace('True', 'africa')"
   ]
  },
  {
   "cell_type": "code",
   "execution_count": 424,
   "id": "809bb6ba",
   "metadata": {},
   "outputs": [],
   "source": [
    "# for usa\n",
    "data_usa['place'] = data_usa['place'].str.contains(\"country\", na=False)\n",
    "data_usa['place'] = data_usa['place'].map({True: 'usa', False: 'usa'})\n",
    "data_usa['place'] = data_usa['place'].str.replace('True', 'usa')"
   ]
  },
  {
   "cell_type": "code",
   "execution_count": 425,
   "id": "4bb12d24",
   "metadata": {},
   "outputs": [
    {
     "data": {
      "text/html": [
       "<div>\n",
       "<style scoped>\n",
       "    .dataframe tbody tr th:only-of-type {\n",
       "        vertical-align: middle;\n",
       "    }\n",
       "\n",
       "    .dataframe tbody tr th {\n",
       "        vertical-align: top;\n",
       "    }\n",
       "\n",
       "    .dataframe thead th {\n",
       "        text-align: right;\n",
       "    }\n",
       "</style>\n",
       "<table border=\"1\" class=\"dataframe\">\n",
       "  <thead>\n",
       "    <tr style=\"text-align: right;\">\n",
       "      <th></th>\n",
       "      <th>date</th>\n",
       "      <th>content</th>\n",
       "      <th>place</th>\n",
       "    </tr>\n",
       "  </thead>\n",
       "  <tbody>\n",
       "    <tr>\n",
       "      <th>0</th>\n",
       "      <td>2022-08-31</td>\n",
       "      <td>“Global warming means more-severe floods and h...</td>\n",
       "      <td>usa</td>\n",
       "    </tr>\n",
       "    <tr>\n",
       "      <th>1</th>\n",
       "      <td>2022-08-31</td>\n",
       "      <td>@Elohim_Gadol So much for global warming. &amp;lt;...</td>\n",
       "      <td>usa</td>\n",
       "    </tr>\n",
       "    <tr>\n",
       "      <th>2</th>\n",
       "      <td>2022-08-31</td>\n",
       "      <td>“Marshes, ponds and meadows soak up water when...</td>\n",
       "      <td>usa</td>\n",
       "    </tr>\n",
       "    <tr>\n",
       "      <th>3</th>\n",
       "      <td>2022-08-31</td>\n",
       "      <td>“All that parkland helps protect millions of A...</td>\n",
       "      <td>usa</td>\n",
       "    </tr>\n",
       "    <tr>\n",
       "      <th>4</th>\n",
       "      <td>2022-08-31</td>\n",
       "      <td>\"It's not global warming, it's global cooling....</td>\n",
       "      <td>usa</td>\n",
       "    </tr>\n",
       "    <tr>\n",
       "      <th>...</th>\n",
       "      <td>...</td>\n",
       "      <td>...</td>\n",
       "      <td>...</td>\n",
       "    </tr>\n",
       "    <tr>\n",
       "      <th>85714</th>\n",
       "      <td>2010-03-17</td>\n",
       "      <td>More proof Global Warming is a lie |||  http:/...</td>\n",
       "      <td>usa</td>\n",
       "    </tr>\n",
       "    <tr>\n",
       "      <th>85715</th>\n",
       "      <td>2010-03-17</td>\n",
       "      <td>More proof Global Warming is a lie |||  http:/...</td>\n",
       "      <td>usa</td>\n",
       "    </tr>\n",
       "    <tr>\n",
       "      <th>85716</th>\n",
       "      <td>2010-03-15</td>\n",
       "      <td>I am helping my friend, who doez not have very...</td>\n",
       "      <td>usa</td>\n",
       "    </tr>\n",
       "    <tr>\n",
       "      <th>85717</th>\n",
       "      <td>2010-03-13</td>\n",
       "      <td>Panic mode - must move. Nowhere to go. Also my...</td>\n",
       "      <td>usa</td>\n",
       "    </tr>\n",
       "    <tr>\n",
       "      <th>85718</th>\n",
       "      <td>2010-03-12</td>\n",
       "      <td>Latest Gallup poll: 48% Americans now say repo...</td>\n",
       "      <td>usa</td>\n",
       "    </tr>\n",
       "  </tbody>\n",
       "</table>\n",
       "<p>84080 rows × 3 columns</p>\n",
       "</div>"
      ],
      "text/plain": [
       "            date                                            content place\n",
       "0     2022-08-31  “Global warming means more-severe floods and h...   usa\n",
       "1     2022-08-31  @Elohim_Gadol So much for global warming. &lt;...   usa\n",
       "2     2022-08-31  “Marshes, ponds and meadows soak up water when...   usa\n",
       "3     2022-08-31  “All that parkland helps protect millions of A...   usa\n",
       "4     2022-08-31  \"It's not global warming, it's global cooling....   usa\n",
       "...          ...                                                ...   ...\n",
       "85714 2010-03-17  More proof Global Warming is a lie |||  http:/...   usa\n",
       "85715 2010-03-17  More proof Global Warming is a lie |||  http:/...   usa\n",
       "85716 2010-03-15  I am helping my friend, who doez not have very...   usa\n",
       "85717 2010-03-13  Panic mode - must move. Nowhere to go. Also my...   usa\n",
       "85718 2010-03-12  Latest Gallup poll: 48% Americans now say repo...   usa\n",
       "\n",
       "[84080 rows x 3 columns]"
      ]
     },
     "execution_count": 425,
     "metadata": {},
     "output_type": "execute_result"
    }
   ],
   "source": [
    "data_usa"
   ]
  },
  {
   "cell_type": "code",
   "execution_count": 429,
   "id": "59a5ba81",
   "metadata": {},
   "outputs": [
    {
     "data": {
      "text/plain": [
       "eu    45426\n",
       "Name: place, dtype: int64"
      ]
     },
     "execution_count": 429,
     "metadata": {},
     "output_type": "execute_result"
    }
   ],
   "source": [
    "data_eu['place'].value_counts()"
   ]
  },
  {
   "cell_type": "code",
   "execution_count": 438,
   "id": "1e86f78f",
   "metadata": {},
   "outputs": [],
   "source": [
    "# converting dates india\n",
    "data_india['date'] = pd.to_datetime(data_india['date'],format='%Y%m%d')\n",
    "data_india['year'] = pd.DatetimeIndex(data_india['date']).year\n",
    "data_india['month'] = pd.DatetimeIndex(data_india['date']).month_name()"
   ]
  },
  {
   "cell_type": "code",
   "execution_count": 439,
   "id": "c84fd78c",
   "metadata": {},
   "outputs": [],
   "source": [
    "# converting dates eu\n",
    "data_eu['date'] = pd.to_datetime(data_eu['date'],format='%Y%m%d')\n",
    "data_eu['year'] = pd.DatetimeIndex(data_eu['date']).year\n",
    "data_eu['month'] = pd.DatetimeIndex(data_eu['date']).month_name()"
   ]
  },
  {
   "cell_type": "code",
   "execution_count": 440,
   "id": "9fa0dbf8",
   "metadata": {},
   "outputs": [],
   "source": [
    "# converting dates africa\n",
    "data_africa['date'] = pd.to_datetime(data_africa['date'],format='%Y%m%d')\n",
    "data_africa['year'] = pd.DatetimeIndex(data_africa['date']).year\n",
    "data_africa['month'] = pd.DatetimeIndex(data_africa['date']).month_name()"
   ]
  },
  {
   "cell_type": "code",
   "execution_count": 441,
   "id": "869c73b5",
   "metadata": {},
   "outputs": [],
   "source": [
    "# converting dates usa\n",
    "data_usa['date'] = pd.to_datetime(data_usa['date'],format='%Y%m%d')\n",
    "data_usa['year'] = pd.DatetimeIndex(data_usa['date']).year\n",
    "data_usa['month'] = pd.DatetimeIndex(data_usa['date']).month_name()\n",
    "#df['month_full'] = df['date'].dt.month_name()"
   ]
  },
  {
   "cell_type": "code",
   "execution_count": 442,
   "id": "10cb449c",
   "metadata": {},
   "outputs": [
    {
     "data": {
      "text/html": [
       "<div>\n",
       "<style scoped>\n",
       "    .dataframe tbody tr th:only-of-type {\n",
       "        vertical-align: middle;\n",
       "    }\n",
       "\n",
       "    .dataframe tbody tr th {\n",
       "        vertical-align: top;\n",
       "    }\n",
       "\n",
       "    .dataframe thead th {\n",
       "        text-align: right;\n",
       "    }\n",
       "</style>\n",
       "<table border=\"1\" class=\"dataframe\">\n",
       "  <thead>\n",
       "    <tr style=\"text-align: right;\">\n",
       "      <th></th>\n",
       "      <th>date</th>\n",
       "      <th>content</th>\n",
       "      <th>place</th>\n",
       "      <th>year</th>\n",
       "      <th>month</th>\n",
       "    </tr>\n",
       "  </thead>\n",
       "  <tbody>\n",
       "    <tr>\n",
       "      <th>0</th>\n",
       "      <td>2022-08-31</td>\n",
       "      <td>“Global warming means more-severe floods and h...</td>\n",
       "      <td>usa</td>\n",
       "      <td>2022</td>\n",
       "      <td>August</td>\n",
       "    </tr>\n",
       "    <tr>\n",
       "      <th>1</th>\n",
       "      <td>2022-08-31</td>\n",
       "      <td>@Elohim_Gadol So much for global warming. &amp;lt;...</td>\n",
       "      <td>usa</td>\n",
       "      <td>2022</td>\n",
       "      <td>August</td>\n",
       "    </tr>\n",
       "    <tr>\n",
       "      <th>2</th>\n",
       "      <td>2022-08-31</td>\n",
       "      <td>“Marshes, ponds and meadows soak up water when...</td>\n",
       "      <td>usa</td>\n",
       "      <td>2022</td>\n",
       "      <td>August</td>\n",
       "    </tr>\n",
       "    <tr>\n",
       "      <th>3</th>\n",
       "      <td>2022-08-31</td>\n",
       "      <td>“All that parkland helps protect millions of A...</td>\n",
       "      <td>usa</td>\n",
       "      <td>2022</td>\n",
       "      <td>August</td>\n",
       "    </tr>\n",
       "    <tr>\n",
       "      <th>4</th>\n",
       "      <td>2022-08-31</td>\n",
       "      <td>\"It's not global warming, it's global cooling....</td>\n",
       "      <td>usa</td>\n",
       "      <td>2022</td>\n",
       "      <td>August</td>\n",
       "    </tr>\n",
       "    <tr>\n",
       "      <th>...</th>\n",
       "      <td>...</td>\n",
       "      <td>...</td>\n",
       "      <td>...</td>\n",
       "      <td>...</td>\n",
       "      <td>...</td>\n",
       "    </tr>\n",
       "    <tr>\n",
       "      <th>85714</th>\n",
       "      <td>2010-03-17</td>\n",
       "      <td>More proof Global Warming is a lie |||  http:/...</td>\n",
       "      <td>usa</td>\n",
       "      <td>2010</td>\n",
       "      <td>March</td>\n",
       "    </tr>\n",
       "    <tr>\n",
       "      <th>85715</th>\n",
       "      <td>2010-03-17</td>\n",
       "      <td>More proof Global Warming is a lie |||  http:/...</td>\n",
       "      <td>usa</td>\n",
       "      <td>2010</td>\n",
       "      <td>March</td>\n",
       "    </tr>\n",
       "    <tr>\n",
       "      <th>85716</th>\n",
       "      <td>2010-03-15</td>\n",
       "      <td>I am helping my friend, who doez not have very...</td>\n",
       "      <td>usa</td>\n",
       "      <td>2010</td>\n",
       "      <td>March</td>\n",
       "    </tr>\n",
       "    <tr>\n",
       "      <th>85717</th>\n",
       "      <td>2010-03-13</td>\n",
       "      <td>Panic mode - must move. Nowhere to go. Also my...</td>\n",
       "      <td>usa</td>\n",
       "      <td>2010</td>\n",
       "      <td>March</td>\n",
       "    </tr>\n",
       "    <tr>\n",
       "      <th>85718</th>\n",
       "      <td>2010-03-12</td>\n",
       "      <td>Latest Gallup poll: 48% Americans now say repo...</td>\n",
       "      <td>usa</td>\n",
       "      <td>2010</td>\n",
       "      <td>March</td>\n",
       "    </tr>\n",
       "  </tbody>\n",
       "</table>\n",
       "<p>84080 rows × 5 columns</p>\n",
       "</div>"
      ],
      "text/plain": [
       "            date                                            content place  \\\n",
       "0     2022-08-31  “Global warming means more-severe floods and h...   usa   \n",
       "1     2022-08-31  @Elohim_Gadol So much for global warming. &lt;...   usa   \n",
       "2     2022-08-31  “Marshes, ponds and meadows soak up water when...   usa   \n",
       "3     2022-08-31  “All that parkland helps protect millions of A...   usa   \n",
       "4     2022-08-31  \"It's not global warming, it's global cooling....   usa   \n",
       "...          ...                                                ...   ...   \n",
       "85714 2010-03-17  More proof Global Warming is a lie |||  http:/...   usa   \n",
       "85715 2010-03-17  More proof Global Warming is a lie |||  http:/...   usa   \n",
       "85716 2010-03-15  I am helping my friend, who doez not have very...   usa   \n",
       "85717 2010-03-13  Panic mode - must move. Nowhere to go. Also my...   usa   \n",
       "85718 2010-03-12  Latest Gallup poll: 48% Americans now say repo...   usa   \n",
       "\n",
       "       year   month  \n",
       "0      2022  August  \n",
       "1      2022  August  \n",
       "2      2022  August  \n",
       "3      2022  August  \n",
       "4      2022  August  \n",
       "...     ...     ...  \n",
       "85714  2010   March  \n",
       "85715  2010   March  \n",
       "85716  2010   March  \n",
       "85717  2010   March  \n",
       "85718  2010   March  \n",
       "\n",
       "[84080 rows x 5 columns]"
      ]
     },
     "execution_count": 442,
     "metadata": {},
     "output_type": "execute_result"
    }
   ],
   "source": [
    "data_usa"
   ]
  },
  {
   "cell_type": "code",
   "execution_count": 445,
   "id": "b6ab3285",
   "metadata": {},
   "outputs": [],
   "source": [
    "#data_india = data_india.drop([\"date\"], axis=1)\n",
    "#data_eu = data_eu.drop([\"date\"], axis=1)\n",
    "#data_africa = data_africa.drop([\"date\"], axis=1)\n",
    "#data_usa = data_usa.drop([\"date\"], axis=1)"
   ]
  },
  {
   "cell_type": "code",
   "execution_count": 446,
   "id": "47e93829",
   "metadata": {},
   "outputs": [
    {
     "data": {
      "text/html": [
       "<div>\n",
       "<style scoped>\n",
       "    .dataframe tbody tr th:only-of-type {\n",
       "        vertical-align: middle;\n",
       "    }\n",
       "\n",
       "    .dataframe tbody tr th {\n",
       "        vertical-align: top;\n",
       "    }\n",
       "\n",
       "    .dataframe thead th {\n",
       "        text-align: right;\n",
       "    }\n",
       "</style>\n",
       "<table border=\"1\" class=\"dataframe\">\n",
       "  <thead>\n",
       "    <tr style=\"text-align: right;\">\n",
       "      <th></th>\n",
       "      <th>content</th>\n",
       "      <th>place</th>\n",
       "      <th>year</th>\n",
       "      <th>month</th>\n",
       "    </tr>\n",
       "  </thead>\n",
       "  <tbody>\n",
       "    <tr>\n",
       "      <th>0</th>\n",
       "      <td>“Global warming means more-severe floods and h...</td>\n",
       "      <td>usa</td>\n",
       "      <td>2022</td>\n",
       "      <td>August</td>\n",
       "    </tr>\n",
       "    <tr>\n",
       "      <th>1</th>\n",
       "      <td>@Elohim_Gadol So much for global warming. &amp;lt;...</td>\n",
       "      <td>usa</td>\n",
       "      <td>2022</td>\n",
       "      <td>August</td>\n",
       "    </tr>\n",
       "    <tr>\n",
       "      <th>2</th>\n",
       "      <td>“Marshes, ponds and meadows soak up water when...</td>\n",
       "      <td>usa</td>\n",
       "      <td>2022</td>\n",
       "      <td>August</td>\n",
       "    </tr>\n",
       "    <tr>\n",
       "      <th>3</th>\n",
       "      <td>“All that parkland helps protect millions of A...</td>\n",
       "      <td>usa</td>\n",
       "      <td>2022</td>\n",
       "      <td>August</td>\n",
       "    </tr>\n",
       "    <tr>\n",
       "      <th>4</th>\n",
       "      <td>\"It's not global warming, it's global cooling....</td>\n",
       "      <td>usa</td>\n",
       "      <td>2022</td>\n",
       "      <td>August</td>\n",
       "    </tr>\n",
       "    <tr>\n",
       "      <th>...</th>\n",
       "      <td>...</td>\n",
       "      <td>...</td>\n",
       "      <td>...</td>\n",
       "      <td>...</td>\n",
       "    </tr>\n",
       "    <tr>\n",
       "      <th>85714</th>\n",
       "      <td>More proof Global Warming is a lie |||  http:/...</td>\n",
       "      <td>usa</td>\n",
       "      <td>2010</td>\n",
       "      <td>March</td>\n",
       "    </tr>\n",
       "    <tr>\n",
       "      <th>85715</th>\n",
       "      <td>More proof Global Warming is a lie |||  http:/...</td>\n",
       "      <td>usa</td>\n",
       "      <td>2010</td>\n",
       "      <td>March</td>\n",
       "    </tr>\n",
       "    <tr>\n",
       "      <th>85716</th>\n",
       "      <td>I am helping my friend, who doez not have very...</td>\n",
       "      <td>usa</td>\n",
       "      <td>2010</td>\n",
       "      <td>March</td>\n",
       "    </tr>\n",
       "    <tr>\n",
       "      <th>85717</th>\n",
       "      <td>Panic mode - must move. Nowhere to go. Also my...</td>\n",
       "      <td>usa</td>\n",
       "      <td>2010</td>\n",
       "      <td>March</td>\n",
       "    </tr>\n",
       "    <tr>\n",
       "      <th>85718</th>\n",
       "      <td>Latest Gallup poll: 48% Americans now say repo...</td>\n",
       "      <td>usa</td>\n",
       "      <td>2010</td>\n",
       "      <td>March</td>\n",
       "    </tr>\n",
       "  </tbody>\n",
       "</table>\n",
       "<p>84080 rows × 4 columns</p>\n",
       "</div>"
      ],
      "text/plain": [
       "                                                 content place  year   month\n",
       "0      “Global warming means more-severe floods and h...   usa  2022  August\n",
       "1      @Elohim_Gadol So much for global warming. &lt;...   usa  2022  August\n",
       "2      “Marshes, ponds and meadows soak up water when...   usa  2022  August\n",
       "3      “All that parkland helps protect millions of A...   usa  2022  August\n",
       "4      \"It's not global warming, it's global cooling....   usa  2022  August\n",
       "...                                                  ...   ...   ...     ...\n",
       "85714  More proof Global Warming is a lie |||  http:/...   usa  2010   March\n",
       "85715  More proof Global Warming is a lie |||  http:/...   usa  2010   March\n",
       "85716  I am helping my friend, who doez not have very...   usa  2010   March\n",
       "85717  Panic mode - must move. Nowhere to go. Also my...   usa  2010   March\n",
       "85718  Latest Gallup poll: 48% Americans now say repo...   usa  2010   March\n",
       "\n",
       "[84080 rows x 4 columns]"
      ]
     },
     "execution_count": 446,
     "metadata": {},
     "output_type": "execute_result"
    }
   ],
   "source": [
    "data_usa"
   ]
  },
  {
   "cell_type": "code",
   "execution_count": 450,
   "id": "b098774b",
   "metadata": {},
   "outputs": [],
   "source": [
    "data_india.to_csv(\"data_india_cleaned.csv\", index = False)\n",
    "data_eu.to_csv(\"data_eu_cleaned.csv\", index = False)\n",
    "data_africa.to_csv(\"data_africa_cleaned.csv\", index = False)\n",
    "data_usa.to_csv(\"data_usa_cleaned.csv\", index = False)"
   ]
  },
  {
   "cell_type": "code",
   "execution_count": null,
   "id": "ee187320",
   "metadata": {},
   "outputs": [],
   "source": []
  }
 ],
 "metadata": {
  "kernelspec": {
   "display_name": "Python 3 (ipykernel)",
   "language": "python",
   "name": "python3"
  },
  "language_info": {
   "codemirror_mode": {
    "name": "ipython",
    "version": 3
   },
   "file_extension": ".py",
   "mimetype": "text/x-python",
   "name": "python",
   "nbconvert_exporter": "python",
   "pygments_lexer": "ipython3",
   "version": "3.9.12"
  }
 },
 "nbformat": 4,
 "nbformat_minor": 5
}

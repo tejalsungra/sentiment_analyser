{
 "cells": [
  {
   "cell_type": "code",
   "execution_count": 1,
   "id": "03a624eb",
   "metadata": {},
   "outputs": [],
   "source": [
    "import pandas as pd\n",
    "import regex as re\n",
    "import matplotlib.pyplot as plt\n"
   ]
  },
  {
   "cell_type": "code",
   "execution_count": 4,
   "id": "a9350d16",
   "metadata": {},
   "outputs": [
    {
     "name": "stderr",
     "output_type": "stream",
     "text": [
      "C:\\Users\\hi\\AppData\\Local\\Temp\\ipykernel_6416\\3620999038.py:2: DtypeWarning: Columns (26) have mixed types. Specify dtype option on import or set low_memory=False.\n",
      "  data_eu = pd.read_csv(\"/Users/hi/Desktop/data_science_wbs_school/final_project/twitter_analysis_new/scraped_tweets_csv/df_europe_twitter.csv\")\n"
     ]
    }
   ],
   "source": [
    "data_india =  pd.read_csv(\"/Users/hi/Desktop/data_science_wbs_school/final_project/twitter_analysis_new/scraped_tweets_csv/data_india.csv\")\n",
    "data_eu = pd.read_csv(\"/Users/hi/Desktop/data_science_wbs_school/final_project/twitter_analysis_new/scraped_tweets_csv/df_europe_twitter.csv\")\n",
    " \n",
    "data_africa = pd.read_csv(\"/Users/hi/Desktop/data_science_wbs_school/final_project/twitter_analysis_new//scraped_tweets_csv/data_africa.csv\")\n",
    "data_usa = pd.read_csv(\"/Users/hi/Desktop/data_science_wbs_school/final_project/twitter_analysis_new//scraped_tweets_csv/data_usa.csv\")"
   ]
  },
  {
   "cell_type": "code",
   "execution_count": 676,
   "id": "906e3b64",
   "metadata": {},
   "outputs": [],
   "source": [
    "#data_india['date']"
   ]
  },
  {
   "cell_type": "code",
   "execution_count": 686,
   "id": "3fa048de",
   "metadata": {},
   "outputs": [
    {
     "data": {
      "text/plain": [
       "\"{'fullName': 'Willow Park, TX', 'name': 'Willow Park', 'type': 'city', 'country': 'United States', 'countryCode': 'US'}\""
      ]
     },
     "execution_count": 686,
     "metadata": {},
     "output_type": "execute_result"
    }
   ],
   "source": [
    "data_usa['place'][75714]"
   ]
  },
  {
   "cell_type": "code",
   "execution_count": 696,
   "id": "dc4586b6",
   "metadata": {},
   "outputs": [],
   "source": [
    "data_usa['countrycode'] = data_usa['place'].str.extract('(\\'countryCode\\': \\'[A-Za-z][A-Za-z])')\n",
    "data_usa['countrycode'] = data_usa['countrycode'].str.replace('(\\'countryCode\\': \\')','',regex = True)\n"
   ]
  },
  {
   "cell_type": "code",
   "execution_count": 697,
   "id": "da417481",
   "metadata": {},
   "outputs": [],
   "source": [
    "# extracting city name for usa\n",
    "data_usa['city'] = data_usa['place'].str.split(',').str[2]\n",
    "data_usa['city'] = data_usa['city'].str.replace('(\\'name\\': \\')','',regex = True)\n",
    "data_usa['city'] = data_usa['city'].str.replace('(\\')','',regex = True)\n"
   ]
  },
  {
   "cell_type": "code",
   "execution_count": 698,
   "id": "ae10b253",
   "metadata": {},
   "outputs": [
    {
     "data": {
      "text/plain": [
       " Los Angeles               4486\n",
       " Texas                     1771\n",
       " Houston                   1744\n",
       " California                1711\n",
       " San Francisco             1652\n",
       "                           ... \n",
       " New Prague                   1\n",
       " Lipton No. 217               1\n",
       " Highlands-Baywood Park       1\n",
       " Elbow                        1\n",
       " North Coryell                1\n",
       "Name: city, Length: 4027, dtype: int64"
      ]
     },
     "execution_count": 698,
     "metadata": {},
     "output_type": "execute_result"
    }
   ],
   "source": [
    "data_usa['city'].value_counts()"
   ]
  },
  {
   "cell_type": "code",
   "execution_count": 713,
   "id": "50e86fad",
   "metadata": {},
   "outputs": [],
   "source": [
    "# extracting city name for india\n",
    "data_india['city'] = data_india['place'].str.split(',').str[2]\n",
    "data_india['city'] = data_india['city'].str.replace('(\\'name\\': \\')','',regex = True)\n",
    "data_india['city'] = data_india['city'].str.replace('(\\')','',regex = True)"
   ]
  },
  {
   "cell_type": "code",
   "execution_count": 714,
   "id": "417556ce",
   "metadata": {},
   "outputs": [
    {
     "data": {
      "text/plain": [
       " type: country    1404\n",
       " Mumbai           1339\n",
       " New Delhi        1299\n",
       " Doha              521\n",
       " Punjab            435\n",
       "                  ... \n",
       " Mai Khet            1\n",
       " Barkakana           1\n",
       " Kamothe             1\n",
       " Buldhana            1\n",
       " Bangko              1\n",
       "Name: city, Length: 1504, dtype: int64"
      ]
     },
     "execution_count": 714,
     "metadata": {},
     "output_type": "execute_result"
    }
   ],
   "source": [
    "data_india['city'].value_counts()"
   ]
  },
  {
   "cell_type": "code",
   "execution_count": 718,
   "id": "0c40ad01",
   "metadata": {},
   "outputs": [],
   "source": [
    "# extracting city name for africa\n",
    "data_africa['city'] = data_africa['place'].str.split(',').str[2]\n",
    "data_africa['city'] = data_africa['city'].str.replace('(\\'name\\': \\')','',regex = True)\n",
    "data_africa['city'] = data_africa['city'].str.replace('(\\')','',regex = True)"
   ]
  },
  {
   "cell_type": "code",
   "execution_count": 710,
   "id": "70fab4ed",
   "metadata": {},
   "outputs": [
    {
     "data": {
      "text/plain": [
       " Nigeria                                                     634\n",
       " Kenya                                                       337\n",
       " Ghana                                                       171\n",
       " Uganda                                                      131\n",
       " Israel                                                       57\n",
       " Egypt                                                        52\n",
       " Tanzania                                                     46\n",
       " Kingdom of Saudi Arabia                                      38\n",
       " Hashemite Kingdom of Jordan                                  28\n",
       " Tunisia                                                      25\n",
       " Spain                                                        19\n",
       " Ethiopia                                                     14\n",
       " Rwanda                                                       14\n",
       " Senegal                                                       9\n",
       " Cameroon                                                      9\n",
       " Democratic Republic of Congo                                  9\n",
       " Gambia                                                        8\n",
       " Gabon                                                         7\n",
       " Sierra Leone                                                  6\n",
       " Ivory Coast                                                   5\n",
       " Libya                                                         3\n",
       " Sudan                                                         3\n",
       " Guinea                                                        3\n",
       " Kakuma Town                                                   2\n",
       " Central Equatoria                                             2\n",
       " Kiribati                                                      2\n",
       " España                                                        2\n",
       " Portugal                                                      2\n",
       " Niger                                                         2\n",
       " Mauritania                                                    1\n",
       " Yemen                                                         1\n",
       " Republic of South Sudan                                       1\n",
       " Chad                                                          1\n",
       " Royaume du Maroc                                              1\n",
       " Zambia                                                        1\n",
       " Syria                                                         1\n",
       " Djibouti                                                      1\n",
       " Tatu City                                                     1\n",
       " Michael Okpara University Of Agriculture                      1\n",
       " Benin                                                         1\n",
       " Bonny River Nigeria                                           1\n",
       " United Nations Environment Programme (UNEP) Headquarters      1\n",
       " Morocco                                                       1\n",
       " Lodwar\"                                                       1\n",
       " The Ghetto                                                    1\n",
       " Diani                                                         1\n",
       " Gulu University                                               1\n",
       " Surulere                                                      1\n",
       " Kasana Luweero Diocese                                        1\n",
       " Swiss Towers                                                  1\n",
       " Monrovia Port                                                 1\n",
       " Latino Cafe                                                   1\n",
       " Paradise Inn Windsor Palace Hotel                             1\n",
       " Liberia                                                       1\n",
       " Mount Kenya University (MKU)                                  1\n",
       " Rubirizi District Head quarters                               1\n",
       " Gulu District Local Government                                1\n",
       "Name: city, dtype: int64"
      ]
     },
     "execution_count": 710,
     "metadata": {},
     "output_type": "execute_result"
    }
   ],
   "source": [
    "data_africa['city'].value_counts()"
   ]
  },
  {
   "cell_type": "code",
   "execution_count": 717,
   "id": "e5495483",
   "metadata": {},
   "outputs": [
    {
     "data": {
      "text/plain": [
       " type: country             1502\n",
       " London                     858\n",
       " Glasgow                    673\n",
       " Paris                      659\n",
       " Dublin City                625\n",
       "                           ... \n",
       " San Casciano dei Bagni       1\n",
       " La Turbie                    1\n",
       " Pantin                       1\n",
       " Cingoli                      1\n",
       " Zeeland                      1\n",
       "Name: city, Length: 5838, dtype: int64"
      ]
     },
     "execution_count": 717,
     "metadata": {},
     "output_type": "execute_result"
    }
   ],
   "source": [
    "# extracting city name for africa\n",
    "data_eu['city'] = data_eu['place'].str.split(',').str[2]\n",
    "data_eu['city'] = data_eu['city'].str.replace('(\\'name\\': \\')','',regex = True)\n",
    "data_eu['city'] = data_eu['city'].str.replace('(\\')','',regex = True)\n",
    "data_eu['city'].value_counts()"
   ]
  },
  {
   "cell_type": "markdown",
   "id": "5704d3dd",
   "metadata": {},
   "source": [
    "# No. of  tweets by countries"
   ]
  },
  {
   "cell_type": "code",
   "execution_count": 726,
   "id": "d8f0a3c7",
   "metadata": {},
   "outputs": [
    {
     "data": {
      "text/plain": [
       " CA                                  23462\n",
       " TX                                  11694\n",
       " USA                                  9429\n",
       " WA                                   3833\n",
       " AZ                                   3546\n",
       "                                     ...  \n",
       " Anaheim Marriott                        1\n",
       " Hilton - Salon B                        1\n",
       " Portland City Hall                      1\n",
       " MetroLink - North Hanley Station        1\n",
       " MA                                      1\n",
       "Name: country, Length: 470, dtype: int64"
      ]
     },
     "execution_count": 726,
     "metadata": {},
     "output_type": "execute_result"
    }
   ],
   "source": [
    "# extracting for usa\n",
    "data_usa['country'] = data_usa['place'].str.split(',').str[1]\n",
    "data_usa['country'] = data_usa['country'].str.replace('(\\'name\\': \\')','',regex = True)\n",
    "data_usa['country'] = data_usa['country'].str.replace('(\\')','',regex = True)\n",
    "data_usa['country'].value_counts()\n"
   ]
  },
  {
   "cell_type": "code",
   "execution_count": 727,
   "id": "eccb7b97",
   "metadata": {},
   "outputs": [
    {
     "data": {
      "text/plain": [
       " India                                         10317\n",
       " Pakistan                                       1113\n",
       " Thailand                                        614\n",
       " Qatar                                           596\n",
       " Singapore                                       591\n",
       "                                               ...  \n",
       " Hayatabad                                         1\n",
       " Ayub Medical Complex                              1\n",
       " Иле-Алатауский национальный парк                  1\n",
       " GDDI Hospital                                     1\n",
       " IPM Professional Services (Central Region)        1\n",
       "Name: country, Length: 387, dtype: int64"
      ]
     },
     "execution_count": 727,
     "metadata": {},
     "output_type": "execute_result"
    }
   ],
   "source": [
    "# extracting for india\n",
    "data_india['country'] = data_india['place'].str.split(',').str[1]\n",
    "data_india['country'] = data_india['country'].str.replace('(\\'name\\': \\')','',regex = True)\n",
    "data_india['country'] = data_india['country'].str.replace('(\\')','',regex = True)\n",
    "data_india['country'].value_counts()"
   ]
  },
  {
   "cell_type": "code",
   "execution_count": 728,
   "id": "434cf933",
   "metadata": {},
   "outputs": [
    {
     "data": {
      "text/plain": [
       " Nigeria                                                     634\n",
       " Kenya                                                       337\n",
       " Ghana                                                       171\n",
       " Uganda                                                      131\n",
       " Israel                                                       57\n",
       " Egypt                                                        52\n",
       " Tanzania                                                     46\n",
       " Kingdom of Saudi Arabia                                      38\n",
       " Hashemite Kingdom of Jordan                                  28\n",
       " Tunisia                                                      25\n",
       " Spain                                                        19\n",
       " Ethiopia                                                     14\n",
       " Rwanda                                                       14\n",
       " Senegal                                                       9\n",
       " Cameroon                                                      9\n",
       " Democratic Republic of Congo                                  9\n",
       " Gambia                                                        8\n",
       " Gabon                                                         7\n",
       " Sierra Leone                                                  6\n",
       " Ivory Coast                                                   5\n",
       " Libya                                                         3\n",
       " Sudan                                                         3\n",
       " Guinea                                                        3\n",
       " Kakuma Town                                                   2\n",
       " Central Equatoria                                             2\n",
       " Kiribati                                                      2\n",
       " España                                                        2\n",
       " Portugal                                                      2\n",
       " Niger                                                         2\n",
       " Mauritania                                                    1\n",
       " Yemen                                                         1\n",
       " Republic of South Sudan                                       1\n",
       " Chad                                                          1\n",
       " Royaume du Maroc                                              1\n",
       " Zambia                                                        1\n",
       " Syria                                                         1\n",
       " Djibouti                                                      1\n",
       " Tatu City                                                     1\n",
       " Michael Okpara University Of Agriculture                      1\n",
       " Benin                                                         1\n",
       " Bonny River Nigeria                                           1\n",
       " United Nations Environment Programme (UNEP) Headquarters      1\n",
       " Morocco                                                       1\n",
       " Lodwar\"                                                       1\n",
       " The Ghetto                                                    1\n",
       " Diani                                                         1\n",
       " Gulu University                                               1\n",
       " Surulere                                                      1\n",
       " Kasana Luweero Diocese                                        1\n",
       " Swiss Towers                                                  1\n",
       " Monrovia Port                                                 1\n",
       " Latino Cafe                                                   1\n",
       " Paradise Inn Windsor Palace Hotel                             1\n",
       " Liberia                                                       1\n",
       " Mount Kenya University (MKU)                                  1\n",
       " Rubirizi District Head quarters                               1\n",
       " Gulu District Local Government                                1\n",
       "Name: country, dtype: int64"
      ]
     },
     "execution_count": 728,
     "metadata": {},
     "output_type": "execute_result"
    }
   ],
   "source": [
    "# extracting for africa\n",
    "data_africa['country'] = data_africa['place'].str.split(',').str[1]\n",
    "data_africa['country'] = data_africa['country'].str.replace('(\\'name\\': \\')','',regex = True)\n",
    "data_africa['country'] = data_africa['country'].str.replace('(\\')','',regex = True)\n",
    "data_africa['country'].value_counts()"
   ]
  },
  {
   "cell_type": "code",
   "execution_count": 729,
   "id": "b97081cb",
   "metadata": {},
   "outputs": [
    {
     "data": {
      "text/plain": [
       " England                           18360\n",
       " London                             4473\n",
       " Scotland                           2480\n",
       " Ireland                            2390\n",
       " France                             1896\n",
       "                                   ...  \n",
       " Port de Saint-Jean-Cap-Ferrat         1\n",
       " Jezero Jasna                          1\n",
       " RAI Radio Televisione Italiana        1\n",
       " Gjakovë                               1\n",
       " Laois                                 1\n",
       "Name: country, Length: 522, dtype: int64"
      ]
     },
     "execution_count": 729,
     "metadata": {},
     "output_type": "execute_result"
    }
   ],
   "source": [
    "# extracting for eu\n",
    "data_eu['country'] = data_eu['place'].str.split(',').str[1]\n",
    "data_eu['country'] = data_eu['country'].str.replace('(\\'name\\': \\')','',regex = True)\n",
    "data_eu['country'] = data_eu['country'].str.replace('(\\')','',regex = True)\n",
    "data_eu['country'].value_counts()"
   ]
  },
  {
   "cell_type": "code",
   "execution_count": 468,
   "id": "559b7ce8",
   "metadata": {},
   "outputs": [],
   "source": [
    "# select only english tweets\n",
    "def english_tweets(data):\n",
    "    english_df = data.query(\"lang == 'en'\")\n",
    "    return(english_df)"
   ]
  },
  {
   "cell_type": "code",
   "execution_count": 469,
   "id": "2ed5a040",
   "metadata": {},
   "outputs": [],
   "source": [
    "data_india = english_tweets(data_india)\n",
    "data_eu = english_tweets(data_eu)\n",
    "data_africa = english_tweets(data_africa)\n",
    "data_usa = english_tweets(data_usa)"
   ]
  },
  {
   "cell_type": "code",
   "execution_count": 470,
   "id": "2a600723",
   "metadata": {},
   "outputs": [],
   "source": [
    "#data_usa "
   ]
  },
  {
   "cell_type": "code",
   "execution_count": 471,
   "id": "904d69de",
   "metadata": {},
   "outputs": [],
   "source": [
    "#data_india.info()"
   ]
  },
  {
   "cell_type": "code",
   "execution_count": 472,
   "id": "3392cfe1",
   "metadata": {},
   "outputs": [
    {
     "data": {
      "text/plain": [
       "['url',\n",
       " 'date',\n",
       " 'content',\n",
       " 'renderedContent',\n",
       " 'id',\n",
       " 'user',\n",
       " 'replyCount',\n",
       " 'retweetCount',\n",
       " 'likeCount',\n",
       " 'quoteCount',\n",
       " 'conversationId',\n",
       " 'lang',\n",
       " 'source',\n",
       " 'sourceUrl',\n",
       " 'sourceLabel',\n",
       " 'outlinks',\n",
       " 'tcooutlinks',\n",
       " 'media',\n",
       " 'retweetedTweet',\n",
       " 'quotedTweet',\n",
       " 'inReplyToTweetId',\n",
       " 'inReplyToUser',\n",
       " 'mentionedUsers',\n",
       " 'coordinates',\n",
       " 'place',\n",
       " 'hashtags',\n",
       " 'cashtags']"
      ]
     },
     "execution_count": 472,
     "metadata": {},
     "output_type": "execute_result"
    }
   ],
   "source": [
    "data_india.columns.values.tolist()"
   ]
  },
  {
   "cell_type": "code",
   "execution_count": 473,
   "id": "5cb8c0e8",
   "metadata": {},
   "outputs": [],
   "source": [
    "# removing coloumns from the dataset\n",
    "def remove_coloumns(data):\n",
    "    new_df = data.drop(['url',\n",
    " 'renderedContent',\n",
    " 'id',\n",
    " 'user',\n",
    " 'replyCount',\n",
    " 'retweetCount',\n",
    " 'likeCount',\n",
    " 'quoteCount',\n",
    " 'conversationId',\n",
    " 'lang',\n",
    " 'source',\n",
    " 'sourceUrl',\n",
    " 'sourceLabel',\n",
    " 'outlinks',\n",
    " 'tcooutlinks',\n",
    " 'media',\n",
    " 'retweetedTweet',\n",
    " 'quotedTweet',\n",
    " 'inReplyToTweetId',\n",
    " 'inReplyToUser',\n",
    " 'mentionedUsers',\n",
    " 'coordinates',\n",
    " 'hashtags',\n",
    " 'cashtags'], axis = 1)\n",
    "    return(new_df)"
   ]
  },
  {
   "cell_type": "code",
   "execution_count": 474,
   "id": "16e47800",
   "metadata": {},
   "outputs": [],
   "source": [
    "data_india = remove_coloumns(data_india)\n",
    "data_eu = remove_coloumns(data_eu)\n",
    "data_africa = remove_coloumns(data_africa)\n",
    "data_usa = remove_coloumns(data_usa)\n"
   ]
  },
  {
   "cell_type": "code",
   "execution_count": 414,
   "id": "b809f22b",
   "metadata": {},
   "outputs": [],
   "source": [
    "#data_eu"
   ]
  },
  {
   "cell_type": "code",
   "execution_count": 416,
   "id": "ea0514d9",
   "metadata": {},
   "outputs": [],
   "source": [
    "# changing data type of date and saving only the date\n",
    "data_india['date'] = pd.to_datetime(data_india['date']).dt.date\n",
    "data_eu['date'] = pd.to_datetime(data_eu['date']).dt.date\n",
    "data_africa['date'] = pd.to_datetime(data_africa['date']).dt.date\n",
    "data_usa['date'] = pd.to_datetime(data_usa['date']).dt.date"
   ]
  },
  {
   "cell_type": "code",
   "execution_count": 417,
   "id": "922bc493",
   "metadata": {},
   "outputs": [],
   "source": [
    "data_india['date'] = pd.to_datetime(data_india['date'])\n",
    "data_eu['date'] = pd.to_datetime(data_eu['date'])\n",
    "data_africa['date'] = pd.to_datetime(data_africa['date'])\n",
    "data_usa['date'] = pd.to_datetime(data_usa['date'])"
   ]
  },
  {
   "cell_type": "code",
   "execution_count": 418,
   "id": "ccc5cb37",
   "metadata": {},
   "outputs": [
    {
     "data": {
      "text/plain": [
       "0       2022-08-31\n",
       "1       2022-08-31\n",
       "2       2022-08-31\n",
       "3       2022-08-31\n",
       "4       2022-08-31\n",
       "           ...    \n",
       "20323   2010-10-28\n",
       "20325   2010-10-21\n",
       "20326   2010-10-19\n",
       "20328   2010-10-08\n",
       "20329   2010-09-19\n",
       "Name: date, Length: 17649, dtype: datetime64[ns]"
      ]
     },
     "execution_count": 418,
     "metadata": {},
     "output_type": "execute_result"
    }
   ],
   "source": [
    "data_india['date']\n"
   ]
  },
  {
   "cell_type": "code",
   "execution_count": 420,
   "id": "ed7496a3",
   "metadata": {},
   "outputs": [],
   "source": [
    "data_india['place'] = data_india['place'].fillna(\"country\")\n",
    "data_africa['place'] = data_india['place'].fillna(\"country\")\n",
    "data_eu['place'] = data_india['place'].fillna(\"country\")\n",
    "data_usa['place'] = data_india['place'].fillna(\"country\")"
   ]
  },
  {
   "cell_type": "code",
   "execution_count": 421,
   "id": "3b35c791",
   "metadata": {},
   "outputs": [],
   "source": [
    "# for india\n",
    "data_india['place'] = data_india['place'].str.contains(\"country\", na=False)\n",
    "data_india['place'] = data_india['place'].map({True: 'India', False: 'no'})\n",
    "data_india['place'] = data_india['place'].str.replace('True', 'India')"
   ]
  },
  {
   "cell_type": "code",
   "execution_count": 422,
   "id": "224ceb14",
   "metadata": {},
   "outputs": [],
   "source": [
    "# for eu\n",
    "data_eu['place'] = data_eu['place'].str.contains(\"country\", na=False)\n",
    "data_eu['place'] = data_eu['place'].map({True: 'eu', False: 'eu'})\n",
    "data_eu['place'] = data_eu['place'].str.replace('True', 'eu')"
   ]
  },
  {
   "cell_type": "code",
   "execution_count": 423,
   "id": "1b14baea",
   "metadata": {},
   "outputs": [],
   "source": [
    "# for africa\n",
    "data_africa['place'] = data_africa['place'].str.contains(\"country\", na=False)\n",
    "data_africa['place'] = data_africa['place'].map({True: 'africa', False: 'africa'})\n",
    "data_africa['place'] = data_africa['place'].str.replace('True', 'africa')"
   ]
  },
  {
   "cell_type": "code",
   "execution_count": 424,
   "id": "342306e9",
   "metadata": {},
   "outputs": [],
   "source": [
    "# for usa\n",
    "data_usa['place'] = data_usa['place'].str.contains(\"country\", na=False)\n",
    "data_usa['place'] = data_usa['place'].map({True: 'usa', False: 'usa'})\n",
    "data_usa['place'] = data_usa['place'].str.replace('True', 'usa')"
   ]
  },
  {
   "cell_type": "code",
   "execution_count": 425,
   "id": "605968ea",
   "metadata": {},
   "outputs": [
    {
     "data": {
      "text/html": [
       "<div>\n",
       "<style scoped>\n",
       "    .dataframe tbody tr th:only-of-type {\n",
       "        vertical-align: middle;\n",
       "    }\n",
       "\n",
       "    .dataframe tbody tr th {\n",
       "        vertical-align: top;\n",
       "    }\n",
       "\n",
       "    .dataframe thead th {\n",
       "        text-align: right;\n",
       "    }\n",
       "</style>\n",
       "<table border=\"1\" class=\"dataframe\">\n",
       "  <thead>\n",
       "    <tr style=\"text-align: right;\">\n",
       "      <th></th>\n",
       "      <th>date</th>\n",
       "      <th>content</th>\n",
       "      <th>place</th>\n",
       "    </tr>\n",
       "  </thead>\n",
       "  <tbody>\n",
       "    <tr>\n",
       "      <th>0</th>\n",
       "      <td>2022-08-31</td>\n",
       "      <td>“Global warming means more-severe floods and h...</td>\n",
       "      <td>usa</td>\n",
       "    </tr>\n",
       "    <tr>\n",
       "      <th>1</th>\n",
       "      <td>2022-08-31</td>\n",
       "      <td>@Elohim_Gadol So much for global warming. &amp;lt;...</td>\n",
       "      <td>usa</td>\n",
       "    </tr>\n",
       "    <tr>\n",
       "      <th>2</th>\n",
       "      <td>2022-08-31</td>\n",
       "      <td>“Marshes, ponds and meadows soak up water when...</td>\n",
       "      <td>usa</td>\n",
       "    </tr>\n",
       "    <tr>\n",
       "      <th>3</th>\n",
       "      <td>2022-08-31</td>\n",
       "      <td>“All that parkland helps protect millions of A...</td>\n",
       "      <td>usa</td>\n",
       "    </tr>\n",
       "    <tr>\n",
       "      <th>4</th>\n",
       "      <td>2022-08-31</td>\n",
       "      <td>\"It's not global warming, it's global cooling....</td>\n",
       "      <td>usa</td>\n",
       "    </tr>\n",
       "    <tr>\n",
       "      <th>...</th>\n",
       "      <td>...</td>\n",
       "      <td>...</td>\n",
       "      <td>...</td>\n",
       "    </tr>\n",
       "    <tr>\n",
       "      <th>85714</th>\n",
       "      <td>2010-03-17</td>\n",
       "      <td>More proof Global Warming is a lie |||  http:/...</td>\n",
       "      <td>usa</td>\n",
       "    </tr>\n",
       "    <tr>\n",
       "      <th>85715</th>\n",
       "      <td>2010-03-17</td>\n",
       "      <td>More proof Global Warming is a lie |||  http:/...</td>\n",
       "      <td>usa</td>\n",
       "    </tr>\n",
       "    <tr>\n",
       "      <th>85716</th>\n",
       "      <td>2010-03-15</td>\n",
       "      <td>I am helping my friend, who doez not have very...</td>\n",
       "      <td>usa</td>\n",
       "    </tr>\n",
       "    <tr>\n",
       "      <th>85717</th>\n",
       "      <td>2010-03-13</td>\n",
       "      <td>Panic mode - must move. Nowhere to go. Also my...</td>\n",
       "      <td>usa</td>\n",
       "    </tr>\n",
       "    <tr>\n",
       "      <th>85718</th>\n",
       "      <td>2010-03-12</td>\n",
       "      <td>Latest Gallup poll: 48% Americans now say repo...</td>\n",
       "      <td>usa</td>\n",
       "    </tr>\n",
       "  </tbody>\n",
       "</table>\n",
       "<p>84080 rows × 3 columns</p>\n",
       "</div>"
      ],
      "text/plain": [
       "            date                                            content place\n",
       "0     2022-08-31  “Global warming means more-severe floods and h...   usa\n",
       "1     2022-08-31  @Elohim_Gadol So much for global warming. &lt;...   usa\n",
       "2     2022-08-31  “Marshes, ponds and meadows soak up water when...   usa\n",
       "3     2022-08-31  “All that parkland helps protect millions of A...   usa\n",
       "4     2022-08-31  \"It's not global warming, it's global cooling....   usa\n",
       "...          ...                                                ...   ...\n",
       "85714 2010-03-17  More proof Global Warming is a lie |||  http:/...   usa\n",
       "85715 2010-03-17  More proof Global Warming is a lie |||  http:/...   usa\n",
       "85716 2010-03-15  I am helping my friend, who doez not have very...   usa\n",
       "85717 2010-03-13  Panic mode - must move. Nowhere to go. Also my...   usa\n",
       "85718 2010-03-12  Latest Gallup poll: 48% Americans now say repo...   usa\n",
       "\n",
       "[84080 rows x 3 columns]"
      ]
     },
     "execution_count": 425,
     "metadata": {},
     "output_type": "execute_result"
    }
   ],
   "source": [
    "data_usa"
   ]
  },
  {
   "cell_type": "code",
   "execution_count": 429,
   "id": "d5a136ec",
   "metadata": {},
   "outputs": [
    {
     "data": {
      "text/plain": [
       "eu    45426\n",
       "Name: place, dtype: int64"
      ]
     },
     "execution_count": 429,
     "metadata": {},
     "output_type": "execute_result"
    }
   ],
   "source": [
    "data_eu['place'].value_counts()"
   ]
  },
  {
   "cell_type": "code",
   "execution_count": 438,
   "id": "b3a633a0",
   "metadata": {},
   "outputs": [],
   "source": [
    "# converting dates india\n",
    "data_india['date'] = pd.to_datetime(data_india['date'],format='%Y%m%d')\n",
    "data_india['year'] = pd.DatetimeIndex(data_india['date']).year\n",
    "data_india['month'] = pd.DatetimeIndex(data_india['date']).month_name()"
   ]
  },
  {
   "cell_type": "code",
   "execution_count": 439,
   "id": "ad34c7a8",
   "metadata": {},
   "outputs": [],
   "source": [
    "# converting dates eu\n",
    "data_eu['date'] = pd.to_datetime(data_eu['date'],format='%Y%m%d')\n",
    "data_eu['year'] = pd.DatetimeIndex(data_eu['date']).year\n",
    "data_eu['month'] = pd.DatetimeIndex(data_eu['date']).month_name()"
   ]
  },
  {
   "cell_type": "code",
   "execution_count": 440,
   "id": "093d890f",
   "metadata": {},
   "outputs": [],
   "source": [
    "# converting dates africa\n",
    "data_africa['date'] = pd.to_datetime(data_africa['date'],format='%Y%m%d')\n",
    "data_africa['year'] = pd.DatetimeIndex(data_africa['date']).year\n",
    "data_africa['month'] = pd.DatetimeIndex(data_africa['date']).month_name()"
   ]
  },
  {
   "cell_type": "code",
   "execution_count": 441,
   "id": "6e74ba87",
   "metadata": {},
   "outputs": [],
   "source": [
    "# converting dates usa\n",
    "data_usa['date'] = pd.to_datetime(data_usa['date'],format='%Y%m%d')\n",
    "data_usa['year'] = pd.DatetimeIndex(data_usa['date']).year\n",
    "data_usa['month'] = pd.DatetimeIndex(data_usa['date']).month_name()\n",
    "#df['month_full'] = df['date'].dt.month_name()"
   ]
  },
  {
   "cell_type": "code",
   "execution_count": 442,
   "id": "dfb522b8",
   "metadata": {},
   "outputs": [
    {
     "data": {
      "text/html": [
       "<div>\n",
       "<style scoped>\n",
       "    .dataframe tbody tr th:only-of-type {\n",
       "        vertical-align: middle;\n",
       "    }\n",
       "\n",
       "    .dataframe tbody tr th {\n",
       "        vertical-align: top;\n",
       "    }\n",
       "\n",
       "    .dataframe thead th {\n",
       "        text-align: right;\n",
       "    }\n",
       "</style>\n",
       "<table border=\"1\" class=\"dataframe\">\n",
       "  <thead>\n",
       "    <tr style=\"text-align: right;\">\n",
       "      <th></th>\n",
       "      <th>date</th>\n",
       "      <th>content</th>\n",
       "      <th>place</th>\n",
       "      <th>year</th>\n",
       "      <th>month</th>\n",
       "    </tr>\n",
       "  </thead>\n",
       "  <tbody>\n",
       "    <tr>\n",
       "      <th>0</th>\n",
       "      <td>2022-08-31</td>\n",
       "      <td>“Global warming means more-severe floods and h...</td>\n",
       "      <td>usa</td>\n",
       "      <td>2022</td>\n",
       "      <td>August</td>\n",
       "    </tr>\n",
       "    <tr>\n",
       "      <th>1</th>\n",
       "      <td>2022-08-31</td>\n",
       "      <td>@Elohim_Gadol So much for global warming. &amp;lt;...</td>\n",
       "      <td>usa</td>\n",
       "      <td>2022</td>\n",
       "      <td>August</td>\n",
       "    </tr>\n",
       "    <tr>\n",
       "      <th>2</th>\n",
       "      <td>2022-08-31</td>\n",
       "      <td>“Marshes, ponds and meadows soak up water when...</td>\n",
       "      <td>usa</td>\n",
       "      <td>2022</td>\n",
       "      <td>August</td>\n",
       "    </tr>\n",
       "    <tr>\n",
       "      <th>3</th>\n",
       "      <td>2022-08-31</td>\n",
       "      <td>“All that parkland helps protect millions of A...</td>\n",
       "      <td>usa</td>\n",
       "      <td>2022</td>\n",
       "      <td>August</td>\n",
       "    </tr>\n",
       "    <tr>\n",
       "      <th>4</th>\n",
       "      <td>2022-08-31</td>\n",
       "      <td>\"It's not global warming, it's global cooling....</td>\n",
       "      <td>usa</td>\n",
       "      <td>2022</td>\n",
       "      <td>August</td>\n",
       "    </tr>\n",
       "    <tr>\n",
       "      <th>...</th>\n",
       "      <td>...</td>\n",
       "      <td>...</td>\n",
       "      <td>...</td>\n",
       "      <td>...</td>\n",
       "      <td>...</td>\n",
       "    </tr>\n",
       "    <tr>\n",
       "      <th>85714</th>\n",
       "      <td>2010-03-17</td>\n",
       "      <td>More proof Global Warming is a lie |||  http:/...</td>\n",
       "      <td>usa</td>\n",
       "      <td>2010</td>\n",
       "      <td>March</td>\n",
       "    </tr>\n",
       "    <tr>\n",
       "      <th>85715</th>\n",
       "      <td>2010-03-17</td>\n",
       "      <td>More proof Global Warming is a lie |||  http:/...</td>\n",
       "      <td>usa</td>\n",
       "      <td>2010</td>\n",
       "      <td>March</td>\n",
       "    </tr>\n",
       "    <tr>\n",
       "      <th>85716</th>\n",
       "      <td>2010-03-15</td>\n",
       "      <td>I am helping my friend, who doez not have very...</td>\n",
       "      <td>usa</td>\n",
       "      <td>2010</td>\n",
       "      <td>March</td>\n",
       "    </tr>\n",
       "    <tr>\n",
       "      <th>85717</th>\n",
       "      <td>2010-03-13</td>\n",
       "      <td>Panic mode - must move. Nowhere to go. Also my...</td>\n",
       "      <td>usa</td>\n",
       "      <td>2010</td>\n",
       "      <td>March</td>\n",
       "    </tr>\n",
       "    <tr>\n",
       "      <th>85718</th>\n",
       "      <td>2010-03-12</td>\n",
       "      <td>Latest Gallup poll: 48% Americans now say repo...</td>\n",
       "      <td>usa</td>\n",
       "      <td>2010</td>\n",
       "      <td>March</td>\n",
       "    </tr>\n",
       "  </tbody>\n",
       "</table>\n",
       "<p>84080 rows × 5 columns</p>\n",
       "</div>"
      ],
      "text/plain": [
       "            date                                            content place  \\\n",
       "0     2022-08-31  “Global warming means more-severe floods and h...   usa   \n",
       "1     2022-08-31  @Elohim_Gadol So much for global warming. &lt;...   usa   \n",
       "2     2022-08-31  “Marshes, ponds and meadows soak up water when...   usa   \n",
       "3     2022-08-31  “All that parkland helps protect millions of A...   usa   \n",
       "4     2022-08-31  \"It's not global warming, it's global cooling....   usa   \n",
       "...          ...                                                ...   ...   \n",
       "85714 2010-03-17  More proof Global Warming is a lie |||  http:/...   usa   \n",
       "85715 2010-03-17  More proof Global Warming is a lie |||  http:/...   usa   \n",
       "85716 2010-03-15  I am helping my friend, who doez not have very...   usa   \n",
       "85717 2010-03-13  Panic mode - must move. Nowhere to go. Also my...   usa   \n",
       "85718 2010-03-12  Latest Gallup poll: 48% Americans now say repo...   usa   \n",
       "\n",
       "       year   month  \n",
       "0      2022  August  \n",
       "1      2022  August  \n",
       "2      2022  August  \n",
       "3      2022  August  \n",
       "4      2022  August  \n",
       "...     ...     ...  \n",
       "85714  2010   March  \n",
       "85715  2010   March  \n",
       "85716  2010   March  \n",
       "85717  2010   March  \n",
       "85718  2010   March  \n",
       "\n",
       "[84080 rows x 5 columns]"
      ]
     },
     "execution_count": 442,
     "metadata": {},
     "output_type": "execute_result"
    }
   ],
   "source": [
    "data_usa"
   ]
  },
  {
   "cell_type": "code",
   "execution_count": 445,
   "id": "7be16bbc",
   "metadata": {},
   "outputs": [],
   "source": [
    "#data_india = data_india.drop([\"date\"], axis=1)\n",
    "#data_eu = data_eu.drop([\"date\"], axis=1)\n",
    "#data_africa = data_africa.drop([\"date\"], axis=1)\n",
    "#data_usa = data_usa.drop([\"date\"], axis=1)"
   ]
  },
  {
   "cell_type": "code",
   "execution_count": 446,
   "id": "0e6b0c23",
   "metadata": {},
   "outputs": [
    {
     "data": {
      "text/html": [
       "<div>\n",
       "<style scoped>\n",
       "    .dataframe tbody tr th:only-of-type {\n",
       "        vertical-align: middle;\n",
       "    }\n",
       "\n",
       "    .dataframe tbody tr th {\n",
       "        vertical-align: top;\n",
       "    }\n",
       "\n",
       "    .dataframe thead th {\n",
       "        text-align: right;\n",
       "    }\n",
       "</style>\n",
       "<table border=\"1\" class=\"dataframe\">\n",
       "  <thead>\n",
       "    <tr style=\"text-align: right;\">\n",
       "      <th></th>\n",
       "      <th>content</th>\n",
       "      <th>place</th>\n",
       "      <th>year</th>\n",
       "      <th>month</th>\n",
       "    </tr>\n",
       "  </thead>\n",
       "  <tbody>\n",
       "    <tr>\n",
       "      <th>0</th>\n",
       "      <td>“Global warming means more-severe floods and h...</td>\n",
       "      <td>usa</td>\n",
       "      <td>2022</td>\n",
       "      <td>August</td>\n",
       "    </tr>\n",
       "    <tr>\n",
       "      <th>1</th>\n",
       "      <td>@Elohim_Gadol So much for global warming. &amp;lt;...</td>\n",
       "      <td>usa</td>\n",
       "      <td>2022</td>\n",
       "      <td>August</td>\n",
       "    </tr>\n",
       "    <tr>\n",
       "      <th>2</th>\n",
       "      <td>“Marshes, ponds and meadows soak up water when...</td>\n",
       "      <td>usa</td>\n",
       "      <td>2022</td>\n",
       "      <td>August</td>\n",
       "    </tr>\n",
       "    <tr>\n",
       "      <th>3</th>\n",
       "      <td>“All that parkland helps protect millions of A...</td>\n",
       "      <td>usa</td>\n",
       "      <td>2022</td>\n",
       "      <td>August</td>\n",
       "    </tr>\n",
       "    <tr>\n",
       "      <th>4</th>\n",
       "      <td>\"It's not global warming, it's global cooling....</td>\n",
       "      <td>usa</td>\n",
       "      <td>2022</td>\n",
       "      <td>August</td>\n",
       "    </tr>\n",
       "    <tr>\n",
       "      <th>...</th>\n",
       "      <td>...</td>\n",
       "      <td>...</td>\n",
       "      <td>...</td>\n",
       "      <td>...</td>\n",
       "    </tr>\n",
       "    <tr>\n",
       "      <th>85714</th>\n",
       "      <td>More proof Global Warming is a lie |||  http:/...</td>\n",
       "      <td>usa</td>\n",
       "      <td>2010</td>\n",
       "      <td>March</td>\n",
       "    </tr>\n",
       "    <tr>\n",
       "      <th>85715</th>\n",
       "      <td>More proof Global Warming is a lie |||  http:/...</td>\n",
       "      <td>usa</td>\n",
       "      <td>2010</td>\n",
       "      <td>March</td>\n",
       "    </tr>\n",
       "    <tr>\n",
       "      <th>85716</th>\n",
       "      <td>I am helping my friend, who doez not have very...</td>\n",
       "      <td>usa</td>\n",
       "      <td>2010</td>\n",
       "      <td>March</td>\n",
       "    </tr>\n",
       "    <tr>\n",
       "      <th>85717</th>\n",
       "      <td>Panic mode - must move. Nowhere to go. Also my...</td>\n",
       "      <td>usa</td>\n",
       "      <td>2010</td>\n",
       "      <td>March</td>\n",
       "    </tr>\n",
       "    <tr>\n",
       "      <th>85718</th>\n",
       "      <td>Latest Gallup poll: 48% Americans now say repo...</td>\n",
       "      <td>usa</td>\n",
       "      <td>2010</td>\n",
       "      <td>March</td>\n",
       "    </tr>\n",
       "  </tbody>\n",
       "</table>\n",
       "<p>84080 rows × 4 columns</p>\n",
       "</div>"
      ],
      "text/plain": [
       "                                                 content place  year   month\n",
       "0      “Global warming means more-severe floods and h...   usa  2022  August\n",
       "1      @Elohim_Gadol So much for global warming. &lt;...   usa  2022  August\n",
       "2      “Marshes, ponds and meadows soak up water when...   usa  2022  August\n",
       "3      “All that parkland helps protect millions of A...   usa  2022  August\n",
       "4      \"It's not global warming, it's global cooling....   usa  2022  August\n",
       "...                                                  ...   ...   ...     ...\n",
       "85714  More proof Global Warming is a lie |||  http:/...   usa  2010   March\n",
       "85715  More proof Global Warming is a lie |||  http:/...   usa  2010   March\n",
       "85716  I am helping my friend, who doez not have very...   usa  2010   March\n",
       "85717  Panic mode - must move. Nowhere to go. Also my...   usa  2010   March\n",
       "85718  Latest Gallup poll: 48% Americans now say repo...   usa  2010   March\n",
       "\n",
       "[84080 rows x 4 columns]"
      ]
     },
     "execution_count": 446,
     "metadata": {},
     "output_type": "execute_result"
    }
   ],
   "source": [
    "data_usa"
   ]
  },
  {
   "cell_type": "code",
   "execution_count": 450,
   "id": "0fc783b6",
   "metadata": {},
   "outputs": [],
   "source": [
    "data_india.to_csv(\"data_india_cleaned.csv\", index = False)\n",
    "data_eu.to_csv(\"data_eu_cleaned.csv\", index = False)\n",
    "data_africa.to_csv(\"data_africa_cleaned.csv\", index = False)\n",
    "data_usa.to_csv(\"data_usa_cleaned.csv\", index = False)"
   ]
  },
  {
   "cell_type": "code",
   "execution_count": 462,
   "id": "9f14e962",
   "metadata": {},
   "outputs": [
    {
     "data": {
      "text/plain": [
       "\"We have finally warmed up from the Little Ice Age back to the prosperous times of Jesus and Plato. Why the panic? Why not use our #Creator's endowment of geologically stored #solar #energy? #LittleIceAge #ClimateChange #GlobalWarming https://t.co/cv1ji1uQAm https://t.co/6RfeSsb7n8\""
      ]
     },
     "execution_count": 462,
     "metadata": {},
     "output_type": "execute_result"
    }
   ],
   "source": [
    "data_usa[\"content\"][30]"
   ]
  },
  {
   "cell_type": "code",
   "execution_count": null,
   "id": "b0090b1b",
   "metadata": {},
   "outputs": [],
   "source": []
  }
 ],
 "metadata": {
  "kernelspec": {
   "display_name": "Python 3 (ipykernel)",
   "language": "python",
   "name": "python3"
  },
  "language_info": {
   "codemirror_mode": {
    "name": "ipython",
    "version": 3
   },
   "file_extension": ".py",
   "mimetype": "text/x-python",
   "name": "python",
   "nbconvert_exporter": "python",
   "pygments_lexer": "ipython3",
   "version": "3.9.12"
  }
 },
 "nbformat": 4,
 "nbformat_minor": 5
}
